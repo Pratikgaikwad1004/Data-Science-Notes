{
 "cells": [
  {
   "cell_type": "markdown",
   "id": "7188221f",
   "metadata": {},
   "source": [
    "# Python Dictionary\n",
    "    Dictionary behave like key value pair"
   ]
  },
  {
   "cell_type": "markdown",
   "id": "54ae1c68",
   "metadata": {},
   "source": [
    "# Syntax"
   ]
  },
  {
   "cell_type": "code",
   "execution_count": 1,
   "id": "9523166b",
   "metadata": {},
   "outputs": [],
   "source": [
    "d = {'key1':'value1', 'key2':'value2'}"
   ]
  },
  {
   "cell_type": "code",
   "execution_count": 2,
   "id": "cf9af7cb",
   "metadata": {},
   "outputs": [
    {
     "data": {
      "text/plain": [
       "'value1'"
      ]
     },
     "execution_count": 2,
     "metadata": {},
     "output_type": "execute_result"
    }
   ],
   "source": [
    "d['key1']"
   ]
  },
  {
   "cell_type": "code",
   "execution_count": 3,
   "id": "c9745e46",
   "metadata": {},
   "outputs": [
    {
     "data": {
      "text/plain": [
       "'value2'"
      ]
     },
     "execution_count": 3,
     "metadata": {},
     "output_type": "execute_result"
    }
   ],
   "source": [
    "d['key2']"
   ]
  },
  {
   "cell_type": "code",
   "execution_count": 4,
   "id": "93915bec",
   "metadata": {},
   "outputs": [],
   "source": [
    "d2 = {'items':[1, 2, 3]}"
   ]
  },
  {
   "cell_type": "code",
   "execution_count": 5,
   "id": "d2478e8d",
   "metadata": {},
   "outputs": [
    {
     "data": {
      "text/plain": [
       "{'items': [1, 2, 3]}"
      ]
     },
     "execution_count": 5,
     "metadata": {},
     "output_type": "execute_result"
    }
   ],
   "source": [
    "d2"
   ]
  },
  {
   "cell_type": "code",
   "execution_count": 6,
   "id": "cc53dc41",
   "metadata": {},
   "outputs": [
    {
     "data": {
      "text/plain": [
       "[1, 2, 3]"
      ]
     },
     "execution_count": 6,
     "metadata": {},
     "output_type": "execute_result"
    }
   ],
   "source": [
    "d2['items']"
   ]
  },
  {
   "cell_type": "code",
   "execution_count": 7,
   "id": "5dbf2bca",
   "metadata": {},
   "outputs": [
    {
     "data": {
      "text/plain": [
       "3"
      ]
     },
     "execution_count": 7,
     "metadata": {},
     "output_type": "execute_result"
    }
   ],
   "source": [
    "d2['items'][2]"
   ]
  },
  {
   "cell_type": "code",
   "execution_count": 8,
   "id": "41d4af82",
   "metadata": {},
   "outputs": [
    {
     "data": {
      "text/plain": [
       "1"
      ]
     },
     "execution_count": 8,
     "metadata": {},
     "output_type": "execute_result"
    }
   ],
   "source": [
    "d2['items'][0]"
   ]
  },
  {
   "cell_type": "code",
   "execution_count": 9,
   "id": "d71e3285",
   "metadata": {},
   "outputs": [],
   "source": [
    "d3 = {'items':{'key1':1, 'key2':2, 'key3':3}}"
   ]
  },
  {
   "cell_type": "code",
   "execution_count": 10,
   "id": "deb4f042",
   "metadata": {},
   "outputs": [
    {
     "data": {
      "text/plain": [
       "{'key1': 1, 'key2': 2, 'key3': 3}"
      ]
     },
     "execution_count": 10,
     "metadata": {},
     "output_type": "execute_result"
    }
   ],
   "source": [
    "d3['items']"
   ]
  },
  {
   "cell_type": "code",
   "execution_count": 11,
   "id": "6ead664b",
   "metadata": {},
   "outputs": [
    {
     "data": {
      "text/plain": [
       "1"
      ]
     },
     "execution_count": 11,
     "metadata": {},
     "output_type": "execute_result"
    }
   ],
   "source": [
    "d3['items']['key1']"
   ]
  }
 ],
 "metadata": {
  "kernelspec": {
   "display_name": "Python 3 (ipykernel)",
   "language": "python",
   "name": "python3"
  },
  "language_info": {
   "codemirror_mode": {
    "name": "ipython",
    "version": 3
   },
   "file_extension": ".py",
   "mimetype": "text/x-python",
   "name": "python",
   "nbconvert_exporter": "python",
   "pygments_lexer": "ipython3",
   "version": "3.9.12"
  }
 },
 "nbformat": 4,
 "nbformat_minor": 5
}
