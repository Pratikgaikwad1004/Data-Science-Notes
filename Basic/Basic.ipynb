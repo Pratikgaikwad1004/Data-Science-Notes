{
 "cells": [
  {
   "cell_type": "code",
   "execution_count": 7,
   "id": "c874653b",
   "metadata": {},
   "outputs": [
    {
     "name": "stdout",
     "output_type": "stream",
     "text": [
      "Hello, World!\n"
     ]
    }
   ],
   "source": [
    "print('Hello, World!')"
   ]
  },
  {
   "cell_type": "markdown",
   "id": "f78b6012",
   "metadata": {},
   "source": [
    "# Shortcut for run code and move to the next cell."
   ]
  },
  {
   "cell_type": "code",
   "execution_count": 8,
   "id": "9cc09351",
   "metadata": {},
   "outputs": [
    {
     "name": "stdout",
     "output_type": "stream",
     "text": [
      "Shift + Enter\n"
     ]
    }
   ],
   "source": [
    "print('Shift + Enter')"
   ]
  },
  {
   "cell_type": "markdown",
   "id": "162214f0",
   "metadata": {},
   "source": [
    "# Shortcut for insert cell."
   ]
  },
  {
   "cell_type": "code",
   "execution_count": 9,
   "id": "89b3d4b8",
   "metadata": {},
   "outputs": [
    {
     "name": "stdout",
     "output_type": "stream",
     "text": [
      "Alt + Enter\n"
     ]
    }
   ],
   "source": [
    "print('Alt + Enter')"
   ]
  },
  {
   "cell_type": "markdown",
   "id": "20d05332",
   "metadata": {},
   "source": [
    "# Import numpy"
   ]
  },
  {
   "cell_type": "code",
   "execution_count": 10,
   "id": "4b139afc",
   "metadata": {},
   "outputs": [],
   "source": [
    "import numpy as np"
   ]
  },
  {
   "cell_type": "markdown",
   "id": "6a26a6da",
   "metadata": {},
   "source": [
    "# Import pandas"
   ]
  },
  {
   "cell_type": "code",
   "execution_count": 11,
   "id": "cb086bab",
   "metadata": {},
   "outputs": [],
   "source": [
    "import pandas as pd"
   ]
  }
 ],
 "metadata": {
  "kernelspec": {
   "display_name": "Python 3 (ipykernel)",
   "language": "python",
   "name": "python3"
  },
  "language_info": {
   "codemirror_mode": {
    "name": "ipython",
    "version": 3
   },
   "file_extension": ".py",
   "mimetype": "text/x-python",
   "name": "python",
   "nbconvert_exporter": "python",
   "pygments_lexer": "ipython3",
   "version": "3.9.12"
  }
 },
 "nbformat": 4,
 "nbformat_minor": 5
}
