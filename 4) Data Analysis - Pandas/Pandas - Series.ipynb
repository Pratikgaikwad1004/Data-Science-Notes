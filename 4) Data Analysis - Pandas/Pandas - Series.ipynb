{
 "cells": [
  {
   "cell_type": "markdown",
   "id": "d86cad89",
   "metadata": {},
   "source": [
    "# Pandas - Series"
   ]
  },
  {
   "cell_type": "code",
   "execution_count": 2,
   "id": "244032b5",
   "metadata": {},
   "outputs": [],
   "source": [
    "import numpy as np"
   ]
  },
  {
   "cell_type": "code",
   "execution_count": 3,
   "id": "877497f7",
   "metadata": {},
   "outputs": [],
   "source": [
    "import pandas as pd"
   ]
  },
  {
   "cell_type": "code",
   "execution_count": 48,
   "id": "11cd9e5c",
   "metadata": {},
   "outputs": [],
   "source": [
    "car = ['Audi', 'BMW', 'Tesla', 'TATA']\n",
    "car2 = ['Audi', 'BMW', 'Mahindra', 'Kia']\n",
    "arr = np.arange(1, 5)\n",
    "d = {'a' : 10, 'b' : 20, 'c' : 30}"
   ]
  },
  {
   "cell_type": "code",
   "execution_count": 30,
   "id": "a3cf88ad",
   "metadata": {},
   "outputs": [
    {
     "data": {
      "text/plain": [
       "['a', 'b', 'c', 'd']"
      ]
     },
     "execution_count": 30,
     "metadata": {},
     "output_type": "execute_result"
    }
   ],
   "source": [
    "labels"
   ]
  },
  {
   "cell_type": "code",
   "execution_count": 31,
   "id": "40ac9668",
   "metadata": {},
   "outputs": [
    {
     "data": {
      "text/plain": [
       "array([1, 2, 3, 4])"
      ]
     },
     "execution_count": 31,
     "metadata": {},
     "output_type": "execute_result"
    }
   ],
   "source": [
    "arr"
   ]
  },
  {
   "cell_type": "code",
   "execution_count": 32,
   "id": "96b151fb",
   "metadata": {},
   "outputs": [
    {
     "data": {
      "text/plain": [
       "{'a': 10, 'b': 20, 'c': 30}"
      ]
     },
     "execution_count": 32,
     "metadata": {},
     "output_type": "execute_result"
    }
   ],
   "source": [
    "d"
   ]
  },
  {
   "cell_type": "code",
   "execution_count": 33,
   "id": "b24f34ae",
   "metadata": {},
   "outputs": [
    {
     "data": {
      "text/plain": [
       "a    10\n",
       "b    20\n",
       "c    30\n",
       "dtype: int64"
      ]
     },
     "execution_count": 33,
     "metadata": {},
     "output_type": "execute_result"
    }
   ],
   "source": [
    "pd.Series(d)"
   ]
  },
  {
   "cell_type": "code",
   "execution_count": 34,
   "id": "f9535bab",
   "metadata": {},
   "outputs": [
    {
     "data": {
      "text/plain": [
       "0     Audi\n",
       "1      BMW\n",
       "2    Tesla\n",
       "3     TATA\n",
       "dtype: object"
      ]
     },
     "execution_count": 34,
     "metadata": {},
     "output_type": "execute_result"
    }
   ],
   "source": [
    "pd.Series(car)"
   ]
  },
  {
   "cell_type": "code",
   "execution_count": 44,
   "id": "7d5e39d3",
   "metadata": {},
   "outputs": [
    {
     "data": {
      "text/plain": [
       "1     Audi\n",
       "2      BMW\n",
       "3    Tesla\n",
       "4     TATA\n",
       "dtype: object"
      ]
     },
     "execution_count": 44,
     "metadata": {},
     "output_type": "execute_result"
    }
   ],
   "source": [
    "pd.Series(data = car, index = arr)"
   ]
  },
  {
   "cell_type": "code",
   "execution_count": 45,
   "id": "9c6e50e8",
   "metadata": {},
   "outputs": [],
   "source": [
    "s1 = pd.Series(data = car)"
   ]
  },
  {
   "cell_type": "code",
   "execution_count": 49,
   "id": "7c090ae3",
   "metadata": {},
   "outputs": [
    {
     "data": {
      "text/plain": [
       "'Audi'"
      ]
     },
     "execution_count": 49,
     "metadata": {},
     "output_type": "execute_result"
    }
   ],
   "source": [
    "s1[0]"
   ]
  },
  {
   "cell_type": "code",
   "execution_count": 50,
   "id": "8c2ad7c4",
   "metadata": {},
   "outputs": [],
   "source": [
    "s2 = pd.Series(data = car2)"
   ]
  },
  {
   "cell_type": "code",
   "execution_count": 51,
   "id": "90609670",
   "metadata": {},
   "outputs": [
    {
     "data": {
      "text/plain": [
       "0        Audi\n",
       "1         BMW\n",
       "2    Mahindra\n",
       "3         Kia\n",
       "dtype: object"
      ]
     },
     "execution_count": 51,
     "metadata": {},
     "output_type": "execute_result"
    }
   ],
   "source": [
    "s2"
   ]
  },
  {
   "cell_type": "code",
   "execution_count": 73,
   "id": "3b51368f",
   "metadata": {
    "scrolled": true
   },
   "outputs": [
    {
     "data": {
      "text/plain": [
       "0     True\n",
       "1     True\n",
       "2    False\n",
       "3    False\n",
       "dtype: bool"
      ]
     },
     "execution_count": 73,
     "metadata": {},
     "output_type": "execute_result"
    }
   ],
   "source": [
    "s1 == s2"
   ]
  }
 ],
 "metadata": {
  "kernelspec": {
   "display_name": "Python 3 (ipykernel)",
   "language": "python",
   "name": "python3"
  },
  "language_info": {
   "codemirror_mode": {
    "name": "ipython",
    "version": 3
   },
   "file_extension": ".py",
   "mimetype": "text/x-python",
   "name": "python",
   "nbconvert_exporter": "python",
   "pygments_lexer": "ipython3",
   "version": "3.9.12"
  }
 },
 "nbformat": 4,
 "nbformat_minor": 5
}
